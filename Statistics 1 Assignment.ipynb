{
 "cells": [
  {
   "cell_type": "markdown",
   "metadata": {},
   "source": [
    "# STATISTICS I - Assignment"
   ]
  },
  {
   "cell_type": "markdown",
   "metadata": {},
   "source": [
    "# You survey households in your area to find the average rent they are paying. # Find the standard deviation from the following data:"
   ]
  },
  {
   "cell_type": "code",
   "execution_count": 4,
   "metadata": {},
   "outputs": [
    {
     "name": "stdout",
     "output_type": "stream",
     "text": [
      "Mean=1158.33333333\n",
      "Median=975.0\n",
      "Standard Deviation=335.927406179\n"
     ]
    }
   ],
   "source": [
    "import numpy as np\n",
    "\n",
    "rent = [1550,1700,900,850,1000,950]\n",
    "mean = np.mean(rent)\n",
    "print('Mean='+str(mean))\n",
    "median = np.median(rent)\n",
    "print('Median='+str(median))\n",
    "std = np.std(rent)\n",
    "print('Standard Deviation='+str(std))"
   ]
  },
  {
   "cell_type": "markdown",
   "metadata": {},
   "source": [
    "# Find the variance for the following set of data representing trees in California (heights in feet):"
   ]
  },
  {
   "cell_type": "code",
   "execution_count": 12,
   "metadata": {},
   "outputs": [
    {
     "name": "stdout",
     "output_type": "stream",
     "text": [
      "Mean=58.5\n",
      "Variance=5183.25\n",
      "Standard Deviation=71.9947914783\n"
     ]
    }
   ],
   "source": [
    "height=[3, 21, 98, 203, 17, 9]\n",
    "print('Mean='+str(np.mean(height)))\n",
    "print('Variance='+str(np.var(height)))\n",
    "print('Standard Deviation='+str(np.std(height)))"
   ]
  },
  {
   "cell_type": "markdown",
   "metadata": {},
   "source": [
    "# In a class on 100 students, 80 students passed in all subjects, 10 failed in one subject, 7 failed in two subjects and 3 failed in three subjects. Find the probability distribution of the variable for number of subjects a student from the given class has failed in."
   ]
  },
  {
   "cell_type": "code",
   "execution_count": null,
   "metadata": {},
   "outputs": [],
   "source": [
    "n=100\n",
    "#Probability of not failing in a subject \n",
    "P(X=0) = 80/100=0.8\n",
    "\n",
    "#Probability of failing in one subject\n",
    "P(X=1) = 10/100 = 0.1\n",
    "\n",
    "#Probability of failing in 2 subjects\n",
    "P(X=2) = 7/100 = 0.07\n",
    "\n",
    "#Probability of failing in 3 subjects\n",
    "P(X=4) = 3/100 = 0.03\n",
    "\n",
    "#Probability Distribution\n",
    "[P(X=0),P(X=1),P(X=2),P(X=3)] --> [0.8,0.1,0.07,0.03] \n",
    "\n"
   ]
  },
  {
   "cell_type": "code",
   "execution_count": null,
   "metadata": {},
   "outputs": [],
   "source": []
  }
 ],
 "metadata": {
  "kernelspec": {
   "display_name": "Python 3",
   "language": "python",
   "name": "python3"
  },
  "language_info": {
   "codemirror_mode": {
    "name": "ipython",
    "version": 3
   },
   "file_extension": ".py",
   "mimetype": "text/x-python",
   "name": "python",
   "nbconvert_exporter": "python",
   "pygments_lexer": "ipython3",
   "version": "3.6.5"
  }
 },
 "nbformat": 4,
 "nbformat_minor": 2
}
